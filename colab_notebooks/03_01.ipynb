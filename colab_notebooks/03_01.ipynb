{
  "nbformat": 4,
  "nbformat_minor": 0,
  "metadata": {
    "colab": {
      "provenance": []
    },
    "kernelspec": {
      "name": "python3",
      "display_name": "Python 3"
    },
    "language_info": {
      "name": "python"
    }
  },
  "cells": [
    {
      "cell_type": "markdown",
      "source": [
        "### Different ways to create tensors"
      ],
      "metadata": {
        "id": "IZqFiLLP6Q9f"
      }
    },
    {
      "cell_type": "code",
      "source": [
        "import torch\n",
        "import numpy as np"
      ],
      "metadata": {
        "id": "umd7jPIdZ0DV"
      },
      "execution_count": null,
      "outputs": []
    },
    {
      "cell_type": "code",
      "source": [
        "# initialize a tensor from a Python list\n",
        "tensor_from_list=torch.tensor([1,2,3,4,5])\n",
        "\n",
        "# initialize a tensor from a tuple\n",
        "tensor_from_tuple=torch.tensor((6,7,8,9,10))\n",
        "\n",
        "print(\"Tensor from list:\",tensor_from_list)\n",
        "print(\"Tensor from tuple:\",tensor_from_tuple)"
      ],
      "metadata": {
        "colab": {
          "base_uri": "https://localhost:8080/"
        },
        "id": "zb1bVLtYbYNj",
        "outputId": "164dba9d-23b6-434a-b259-dceb83236399"
      },
      "execution_count": null,
      "outputs": [
        {
          "output_type": "stream",
          "name": "stdout",
          "text": [
            "Tensor from list: tensor([1, 2, 3, 4, 5])\n",
            "Tensor from tuple: tensor([ 6,  7,  8,  9, 10])\n"
          ]
        }
      ]
    },
    {
      "cell_type": "code",
      "source": [
        "# initialize a tensor from a ndarray\n",
        "tensor_from_array=torch.tensor(np.array([11,12,13,14,15]))\n",
        "print(\"Tensor from array:\",tensor_from_array)"
      ],
      "metadata": {
        "colab": {
          "base_uri": "https://localhost:8080/"
        },
        "id": "19SW4IVddwGF",
        "outputId": "d0d3c8a9-f743-4425-e4e7-bbb162398690"
      },
      "execution_count": null,
      "outputs": [
        {
          "output_type": "stream",
          "name": "stdout",
          "text": [
            "Tensor from array: tensor([11, 12, 13, 14, 15])\n"
          ]
        }
      ]
    },
    {
      "cell_type": "markdown",
      "source": [
        "#### Different functions for creating tensors:\n",
        "##### torch.empty(), torch.ones(), and torch.zeros()"
      ],
      "metadata": {
        "id": "WKqZezHA8JqY"
      }
    },
    {
      "cell_type": "code",
      "source": [
        "tensor_emp = torch.empty(3,4)\n",
        "print(\"tensor_emp :\",tensor_emp)\n",
        "\n",
        "tensor_zeros = torch.zeros(3,4)\n",
        "print(\"tensor_zeros :\",tensor_zeros)\n",
        "\n",
        "tensor_ones= torch.ones(3,4)\n",
        "print(\"tensor_ones :\",tensor_ones)"
      ],
      "metadata": {
        "id": "9sN85Sa8oN2F",
        "colab": {
          "base_uri": "https://localhost:8080/"
        },
        "outputId": "53b421e5-a26c-420f-b11f-f05f2185f2e3"
      },
      "execution_count": null,
      "outputs": [
        {
          "output_type": "stream",
          "name": "stdout",
          "text": [
            "tensor_emp : tensor([[-1.3757e-06,  4.4463e-41, -2.1365e-16,  4.4463e-41],\n",
            "        [-1.2463e+22,  4.4462e-41, -1.9648e-16,  4.4463e-41],\n",
            "        [-1.4017e-06,  4.4463e-41, -1.9648e-16,  4.4463e-41]])\n",
            "tensor_zeros : tensor([[0., 0., 0., 0.],\n",
            "        [0., 0., 0., 0.],\n",
            "        [0., 0., 0., 0.]])\n",
            "tensor_ones : tensor([[1., 1., 1., 1.],\n",
            "        [1., 1., 1., 1.],\n",
            "        [1., 1., 1., 1.]])\n"
          ]
        }
      ]
    },
    {
      "cell_type": "code",
      "source": [
        "# tensors initialized by size with random values\n",
        "# returns a tensor filled with random numbers from a uniform distribution\n",
        "tensor_rand_un = torch.rand(4,5)\n",
        "print(\"tensor_rand_un :\",tensor_rand_un)\n",
        "\n",
        "# returns a tensor filled with random numbers from a normal distribution\n",
        "tensor_rand_norm = torch.randn(4,5)\n",
        "print(\"tensor_rand_norm :\",tensor_rand_norm)\n",
        "\n",
        "# returns a tensor filled with random integers generated uniformly\n",
        "tensor_rand_int = torch.randint(5,10,(4,5))\n",
        "print(\"tensor_rand_int :\",tensor_rand_int)"
      ],
      "metadata": {
        "id": "uEPf9V0vtBgG",
        "colab": {
          "base_uri": "https://localhost:8080/",
          "height": 216
        },
        "outputId": "39ef121b-655a-4dad-d35e-4324eea8d02a"
      },
      "execution_count": 1,
      "outputs": [
        {
          "output_type": "error",
          "ename": "NameError",
          "evalue": "name 'torch' is not defined",
          "traceback": [
            "\u001b[0;31m---------------------------------------------------------------------------\u001b[0m",
            "\u001b[0;31mNameError\u001b[0m                                 Traceback (most recent call last)",
            "\u001b[0;32m<ipython-input-1-3be6fb708b4f>\u001b[0m in \u001b[0;36m<cell line: 0>\u001b[0;34m()\u001b[0m\n\u001b[1;32m      1\u001b[0m \u001b[0;31m# tensors initialized by size with random values\u001b[0m\u001b[0;34m\u001b[0m\u001b[0;34m\u001b[0m\u001b[0m\n\u001b[1;32m      2\u001b[0m \u001b[0;31m# returns a tensor filled with random numbers from a uniform distribution\u001b[0m\u001b[0;34m\u001b[0m\u001b[0;34m\u001b[0m\u001b[0m\n\u001b[0;32m----> 3\u001b[0;31m \u001b[0mtensor_rand_un\u001b[0m \u001b[0;34m=\u001b[0m \u001b[0mtorch\u001b[0m\u001b[0;34m.\u001b[0m\u001b[0mrand\u001b[0m\u001b[0;34m(\u001b[0m\u001b[0;36m4\u001b[0m\u001b[0;34m,\u001b[0m\u001b[0;36m5\u001b[0m\u001b[0;34m)\u001b[0m\u001b[0;34m\u001b[0m\u001b[0;34m\u001b[0m\u001b[0m\n\u001b[0m\u001b[1;32m      4\u001b[0m \u001b[0mprint\u001b[0m\u001b[0;34m(\u001b[0m\u001b[0;34m\"tensor_rand_un :\"\u001b[0m\u001b[0;34m,\u001b[0m\u001b[0mtensor_rand_un\u001b[0m\u001b[0;34m)\u001b[0m\u001b[0;34m\u001b[0m\u001b[0;34m\u001b[0m\u001b[0m\n\u001b[1;32m      5\u001b[0m \u001b[0;34m\u001b[0m\u001b[0m\n",
            "\u001b[0;31mNameError\u001b[0m: name 'torch' is not defined"
          ]
        }
      ]
    },
    {
      "cell_type": "code",
      "source": [
        "# initialize a tensor of ones\n",
        "tensor_ones = torch.ones_like(tensor_rand_int)\n",
        "print(tensor_ones)"
      ],
      "metadata": {
        "colab": {
          "base_uri": "https://localhost:8080/"
        },
        "id": "X3vWpA0hrYxR",
        "outputId": "147e1b79-93b5-4a60-9a23-d536706d2e42"
      },
      "execution_count": null,
      "outputs": [
        {
          "output_type": "stream",
          "name": "stdout",
          "text": [
            "tensor([[1, 1, 1, 1, 1],\n",
            "        [1, 1, 1, 1, 1],\n",
            "        [1, 1, 1, 1, 1],\n",
            "        [1, 1, 1, 1, 1]])\n"
          ]
        }
      ]
    }
  ]
}